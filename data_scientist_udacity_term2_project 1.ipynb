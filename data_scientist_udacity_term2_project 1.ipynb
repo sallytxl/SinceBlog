{
 "cells": [
  {
   "cell_type": "code",
   "execution_count": 1,
   "metadata": {},
   "outputs": [],
   "source": [
    "import pandas as pd\n",
    "import numpy as np\n",
    "import os\n",
    "import matplotlib as plt\n",
    "import seaborn as sns\n",
    "import matplotlib.pyplot as plt\n",
    "from scipy.stats import shapiro\n",
    "import scipy.stats as stats\n",
    "import statistics as stat\n",
    "from matplotlib import cm\n",
    "import operator"
   ]
  },
  {
   "cell_type": "code",
   "execution_count": 2,
   "metadata": {},
   "outputs": [
    {
     "name": "stderr",
     "output_type": "stream",
     "text": [
      "C:\\Users\\xiaoling\\Anaconda3\\lib\\site-packages\\IPython\\core\\interactiveshell.py:3018: DtypeWarning: Columns (8,12,13,14,15,16,50,51,52,53,55,56,57,58,59,60,61,62,63,64,65,66,67,68,69,70,71,72,73,74,75,76,77,78,79,80,81,82,83,84,85,93,94,95,96,97,98,99,100,101,102,103,104,105,106,107,108,109,110,111,112,113,114,115,116,117,118,119,120,121,122,123,124,125,126,127,128) have mixed types. Specify dtype option on import or set low_memory=False.\n",
      "  interactivity=interactivity, compiler=compiler, result=result)\n"
     ]
    },
    {
     "data": {
      "text/plain": [
       "(98855, 129)"
      ]
     },
     "execution_count": 2,
     "metadata": {},
     "output_type": "execute_result"
    }
   ],
   "source": [
    "os.chdir(\"C:\\\\Users\\\\xiaoling\\\\Desktop\\\\data_scientist_udacity\\\\term2 project 1\\\\developer_survey_2018\")\n",
    "df = pd.read_csv('survey_results_public.csv')\n",
    "df.shape"
   ]
  },
  {
   "cell_type": "code",
   "execution_count": 3,
   "metadata": {},
   "outputs": [
    {
     "data": {
      "text/html": [
       "<div>\n",
       "<style scoped>\n",
       "    .dataframe tbody tr th:only-of-type {\n",
       "        vertical-align: middle;\n",
       "    }\n",
       "\n",
       "    .dataframe tbody tr th {\n",
       "        vertical-align: top;\n",
       "    }\n",
       "\n",
       "    .dataframe thead th {\n",
       "        text-align: right;\n",
       "    }\n",
       "</style>\n",
       "<table border=\"1\" class=\"dataframe\">\n",
       "  <thead>\n",
       "    <tr style=\"text-align: right;\">\n",
       "      <th></th>\n",
       "      <th>Female</th>\n",
       "      <th>Male</th>\n",
       "    </tr>\n",
       "    <tr>\n",
       "      <th>Country</th>\n",
       "      <th></th>\n",
       "      <th></th>\n",
       "    </tr>\n",
       "  </thead>\n",
       "  <tbody>\n",
       "    <tr>\n",
       "      <th>Afghanistan</th>\n",
       "      <td>1.0</td>\n",
       "      <td>17.0</td>\n",
       "    </tr>\n",
       "    <tr>\n",
       "      <th>Albania</th>\n",
       "      <td>4.0</td>\n",
       "      <td>45.0</td>\n",
       "    </tr>\n",
       "    <tr>\n",
       "      <th>Algeria</th>\n",
       "      <td>3.0</td>\n",
       "      <td>55.0</td>\n",
       "    </tr>\n",
       "    <tr>\n",
       "      <th>Andorra</th>\n",
       "      <td>1.0</td>\n",
       "      <td>5.0</td>\n",
       "    </tr>\n",
       "    <tr>\n",
       "      <th>Angola</th>\n",
       "      <td>NaN</td>\n",
       "      <td>2.0</td>\n",
       "    </tr>\n",
       "  </tbody>\n",
       "</table>\n",
       "</div>"
      ],
      "text/plain": [
       "             Female  Male\n",
       "Country                  \n",
       "Afghanistan     1.0  17.0\n",
       "Albania         4.0  45.0\n",
       "Algeria         3.0  55.0\n",
       "Andorra         1.0   5.0\n",
       "Angola          NaN   2.0"
      ]
     },
     "execution_count": 3,
     "metadata": {},
     "output_type": "execute_result"
    }
   ],
   "source": [
    "#Count respondent number in each country for male and female\n",
    "genderCount = df.groupby([\"Country\",\"Gender\"])['Respondent'].count().to_frame().reset_index()\n",
    "#genderCountPivot = genderCount.pivot(values='Respondent', index='Country', columns='Gender')[[\"Female\", \"Male\"]].reset_index()\n",
    "genderCountPivot = genderCount.pivot(values='Respondent', index='Country', columns='Gender')[[\"Female\", \"Male\"]].rename_axis(None, axis=1)\n",
    "genderCountPivot.head()"
   ]
  },
  {
   "cell_type": "code",
   "execution_count": 4,
   "metadata": {},
   "outputs": [
    {
     "name": "stdout",
     "output_type": "stream",
     "text": [
      "total responders 63483.0\n",
      "% of female 6.340280074980703\n",
      "% of male 93.65971992501929\n"
     ]
    }
   ],
   "source": [
    "#calaculate the proportion of male and female\n",
    "female = genderCountPivot['Female'].sum(axis=0)\n",
    "male = genderCountPivot['Male'].sum(axis=0)\n",
    "\n",
    "print(\"total responders\", female + male)\n",
    "print(\"% of female\", female/(female+male)*100) \n",
    "print(\"% of male\", male/(female+male)*100) "
   ]
  },
  {
   "cell_type": "code",
   "execution_count": 5,
   "metadata": {
    "scrolled": true
   },
   "outputs": [
    {
     "data": {
      "text/plain": [
       "55"
      ]
     },
     "execution_count": 5,
     "metadata": {},
     "output_type": "execute_result"
    }
   ],
   "source": [
    "#find how many countries without female respondent\n",
    "country_noFemale = genderCountPivot[genderCountPivot['Female'].isnull()].sort_values('Male',  ascending=False).reset_index()\n",
    "country_noFemale.Country.count()"
   ]
  },
  {
   "cell_type": "code",
   "execution_count": 6,
   "metadata": {
    "scrolled": true
   },
   "outputs": [
    {
     "data": {
      "text/html": [
       "<div>\n",
       "<style scoped>\n",
       "    .dataframe tbody tr th:only-of-type {\n",
       "        vertical-align: middle;\n",
       "    }\n",
       "\n",
       "    .dataframe tbody tr th {\n",
       "        vertical-align: top;\n",
       "    }\n",
       "\n",
       "    .dataframe thead th {\n",
       "        text-align: right;\n",
       "    }\n",
       "</style>\n",
       "<table border=\"1\" class=\"dataframe\">\n",
       "  <thead>\n",
       "    <tr style=\"text-align: right;\">\n",
       "      <th></th>\n",
       "      <th>Female</th>\n",
       "      <th>Male</th>\n",
       "    </tr>\n",
       "    <tr>\n",
       "      <th>Country</th>\n",
       "      <th></th>\n",
       "      <th></th>\n",
       "    </tr>\n",
       "  </thead>\n",
       "  <tbody>\n",
       "    <tr>\n",
       "      <th>United States</th>\n",
       "      <td>1288.0</td>\n",
       "      <td>13914.0</td>\n",
       "    </tr>\n",
       "    <tr>\n",
       "      <th>India</th>\n",
       "      <td>440.0</td>\n",
       "      <td>6213.0</td>\n",
       "    </tr>\n",
       "    <tr>\n",
       "      <th>United Kingdom</th>\n",
       "      <td>256.0</td>\n",
       "      <td>4260.0</td>\n",
       "    </tr>\n",
       "    <tr>\n",
       "      <th>Germany</th>\n",
       "      <td>193.0</td>\n",
       "      <td>4205.0</td>\n",
       "    </tr>\n",
       "    <tr>\n",
       "      <th>Canada</th>\n",
       "      <td>208.0</td>\n",
       "      <td>2201.0</td>\n",
       "    </tr>\n",
       "    <tr>\n",
       "      <th>Russian Federation</th>\n",
       "      <td>95.0</td>\n",
       "      <td>1632.0</td>\n",
       "    </tr>\n",
       "    <tr>\n",
       "      <th>France</th>\n",
       "      <td>83.0</td>\n",
       "      <td>1629.0</td>\n",
       "    </tr>\n",
       "    <tr>\n",
       "      <th>Brazil</th>\n",
       "      <td>58.0</td>\n",
       "      <td>1513.0</td>\n",
       "    </tr>\n",
       "    <tr>\n",
       "      <th>Australia</th>\n",
       "      <td>85.0</td>\n",
       "      <td>1389.0</td>\n",
       "    </tr>\n",
       "    <tr>\n",
       "      <th>Poland</th>\n",
       "      <td>73.0</td>\n",
       "      <td>1310.0</td>\n",
       "    </tr>\n",
       "  </tbody>\n",
       "</table>\n",
       "</div>"
      ],
      "text/plain": [
       "                    Female     Male\n",
       "Country                            \n",
       "United States       1288.0  13914.0\n",
       "India                440.0   6213.0\n",
       "United Kingdom       256.0   4260.0\n",
       "Germany              193.0   4205.0\n",
       "Canada               208.0   2201.0\n",
       "Russian Federation    95.0   1632.0\n",
       "France                83.0   1629.0\n",
       "Brazil                58.0   1513.0\n",
       "Australia             85.0   1389.0\n",
       "Poland                73.0   1310.0"
      ]
     },
     "execution_count": 6,
     "metadata": {},
     "output_type": "execute_result"
    }
   ],
   "source": [
    "#Generate a table with female and male number listed for each country\n",
    "genderCountPivot1 = genderCountPivot.dropna(subset=['Female']).sort_values('Male', ascending=False)\n",
    "genderCountPivot1.head(10)"
   ]
  },
  {
   "cell_type": "code",
   "execution_count": 9,
   "metadata": {},
   "outputs": [
    {
     "data": {
      "text/html": [
       "<div>\n",
       "<style scoped>\n",
       "    .dataframe tbody tr th:only-of-type {\n",
       "        vertical-align: middle;\n",
       "    }\n",
       "\n",
       "    .dataframe tbody tr th {\n",
       "        vertical-align: top;\n",
       "    }\n",
       "\n",
       "    .dataframe thead th {\n",
       "        text-align: right;\n",
       "    }\n",
       "</style>\n",
       "<table border=\"1\" class=\"dataframe\">\n",
       "  <thead>\n",
       "    <tr style=\"text-align: right;\">\n",
       "      <th></th>\n",
       "      <th>Country</th>\n",
       "      <th>Female</th>\n",
       "      <th>Male</th>\n",
       "    </tr>\n",
       "  </thead>\n",
       "  <tbody>\n",
       "    <tr>\n",
       "      <th>0</th>\n",
       "      <td>Dominican Republic</td>\n",
       "      <td>NaN</td>\n",
       "      <td>69.0</td>\n",
       "    </tr>\n",
       "    <tr>\n",
       "      <th>1</th>\n",
       "      <td>Azerbaijan</td>\n",
       "      <td>NaN</td>\n",
       "      <td>44.0</td>\n",
       "    </tr>\n",
       "    <tr>\n",
       "      <th>2</th>\n",
       "      <td>Uganda</td>\n",
       "      <td>NaN</td>\n",
       "      <td>37.0</td>\n",
       "    </tr>\n",
       "    <tr>\n",
       "      <th>3</th>\n",
       "      <td>Uzbekistan</td>\n",
       "      <td>NaN</td>\n",
       "      <td>29.0</td>\n",
       "    </tr>\n",
       "    <tr>\n",
       "      <th>4</th>\n",
       "      <td>United Republic of Tanzania</td>\n",
       "      <td>NaN</td>\n",
       "      <td>26.0</td>\n",
       "    </tr>\n",
       "  </tbody>\n",
       "</table>\n",
       "</div>"
      ],
      "text/plain": [
       "                       Country  Female  Male\n",
       "0           Dominican Republic     NaN  69.0\n",
       "1                   Azerbaijan     NaN  44.0\n",
       "2                       Uganda     NaN  37.0\n",
       "3                   Uzbekistan     NaN  29.0\n",
       "4  United Republic of Tanzania     NaN  26.0"
      ]
     },
     "execution_count": 9,
     "metadata": {},
     "output_type": "execute_result"
    }
   ],
   "source": [
    "country_noFemale.head() # find country without female responders"
   ]
  },
  {
   "cell_type": "code",
   "execution_count": 8,
   "metadata": {},
   "outputs": [
    {
     "data": {
      "text/plain": [
       "0"
      ]
     },
     "execution_count": 8,
     "metadata": {},
     "output_type": "execute_result"
    }
   ],
   "source": [
    "df['Gender'].isnull().sum()"
   ]
  },
  {
   "cell_type": "code",
   "execution_count": 7,
   "metadata": {},
   "outputs": [],
   "source": [
    "df = df.dropna(subset=['ConvertedSalary', 'Gender'], axis=0) #removed rows contain NaN in \"ConvertedSalary\" and ”Gender“ columns"
   ]
  },
  {
   "cell_type": "code",
   "execution_count": 10,
   "metadata": {
    "scrolled": false
   },
   "outputs": [
    {
     "data": {
      "image/png": "[encoded data removed]",
      "text/plain": [
       "<Figure size 432x288 with 1 Axes>"
      ]
     },
     "metadata": {
      "needs_background": "light"
     },
     "output_type": "display_data"
    }
   ],
   "source": [
    "#histogram plot to check data distribution, whether normal distribution\n",
    "#plt.hist(df['ConvertedSalary'], bins = 50, alpha = 0.5, label = 'All')\n",
    "plt.hist(df[df['Gender'] == 'Male'].ConvertedSalary, bins = 50, alpha = 0.5, label = 'Male')\n",
    "plt.hist(df[df['Gender'] == 'Female'].ConvertedSalary, bins = 50, alpha = 0.5, label = 'Female')\n",
    "plt.legend(loc='upper right')\n",
    "plt.xlabel('Salary(USD)')\n",
    "plt.ylabel('No. of responders')\n",
    "plt.xticks(rotation=30)\n",
    "plt.show() #right skewed distribution"
   ]
  },
  {
   "cell_type": "code",
   "execution_count": 11,
   "metadata": {
    "scrolled": true
   },
   "outputs": [
    {
     "name": "stdout",
     "output_type": "stream",
     "text": [
      "median of male salary: 56100.0 \n",
      "median of female salary: 54336.0 \n",
      "p value is 0.0015789413354508127\n"
     ]
    }
   ],
   "source": [
    "#mann whiteny test because data are not assuming normal distribution; to see the difference of salary between female and male\n",
    "def pValue(df, country):\n",
    "    if len(country) == 1:\n",
    "        df1 = df[df['Country'] == country]\n",
    "    else:\n",
    "        df1 = df \n",
    "    maleSalary = list(df[df['Gender'] == 'Male'].ConvertedSalary)\n",
    "    femaleSalary = list(df[df['Gender'] == 'Female'].ConvertedSalary)\n",
    "    u_statistic, pVal = stats.mannwhitneyu(maleSalary, femaleSalary)\n",
    "    print(\"median of male salary:\",stat.median(maleSalary),\"\\nmedian of female salary:\", stat.median(femaleSalary),  \"\\np value is\" , pVal)\n",
    "\n",
    "pValue(df,np.unique(df['Country']))# In general the salary difference between females and males"
   ]
  },
  {
   "cell_type": "code",
   "execution_count": 13,
   "metadata": {},
   "outputs": [
    {
     "name": "stderr",
     "output_type": "stream",
     "text": [
      "C:\\Users\\xiaoling\\Anaconda3\\lib\\site-packages\\ipykernel\\__main__.py:16: SettingWithCopyWarning: \n",
      "A value is trying to be set on a copy of a slice from a DataFrame.\n",
      "Try using .loc[row_indexer,col_indexer] = value instead\n",
      "\n",
      "See the caveats in the documentation: http://pandas.pydata.org/pandas-docs/stable/indexing.html#indexing-view-versus-copy\n",
      "C:\\Users\\xiaoling\\Anaconda3\\lib\\site-packages\\ipykernel\\__main__.py:17: SettingWithCopyWarning: \n",
      "A value is trying to be set on a copy of a slice from a DataFrame.\n",
      "Try using .loc[row_indexer,col_indexer] = value instead\n",
      "\n",
      "See the caveats in the documentation: http://pandas.pydata.org/pandas-docs/stable/indexing.html#indexing-view-versus-copy\n",
      "C:\\Users\\xiaoling\\Anaconda3\\lib\\site-packages\\ipykernel\\__main__.py:18: SettingWithCopyWarning: \n",
      "A value is trying to be set on a copy of a slice from a DataFrame.\n",
      "Try using .loc[row_indexer,col_indexer] = value instead\n",
      "\n",
      "See the caveats in the documentation: http://pandas.pydata.org/pandas-docs/stable/indexing.html#indexing-view-versus-copy\n"
     ]
    },
    {
     "data": {
      "text/html": [
       "<div>\n",
       "<style scoped>\n",
       "    .dataframe tbody tr th:only-of-type {\n",
       "        vertical-align: middle;\n",
       "    }\n",
       "\n",
       "    .dataframe tbody tr th {\n",
       "        vertical-align: top;\n",
       "    }\n",
       "\n",
       "    .dataframe thead th {\n",
       "        text-align: right;\n",
       "    }\n",
       "</style>\n",
       "<table border=\"1\" class=\"dataframe\">\n",
       "  <thead>\n",
       "    <tr style=\"text-align: right;\">\n",
       "      <th></th>\n",
       "      <th>Female</th>\n",
       "      <th>Male</th>\n",
       "      <th>pVal</th>\n",
       "      <th>female_median</th>\n",
       "      <th>male_median</th>\n",
       "    </tr>\n",
       "    <tr>\n",
       "      <th>Country</th>\n",
       "      <th></th>\n",
       "      <th></th>\n",
       "      <th></th>\n",
       "      <th></th>\n",
       "      <th></th>\n",
       "    </tr>\n",
       "  </thead>\n",
       "  <tbody>\n",
       "    <tr>\n",
       "      <th>United States</th>\n",
       "      <td>1288.0</td>\n",
       "      <td>13914.0</td>\n",
       "      <td>3.865933e-21</td>\n",
       "      <td>85000.0</td>\n",
       "      <td>100000.0</td>\n",
       "    </tr>\n",
       "    <tr>\n",
       "      <th>India</th>\n",
       "      <td>440.0</td>\n",
       "      <td>6213.0</td>\n",
       "      <td>1.593630e-04</td>\n",
       "      <td>7512.0</td>\n",
       "      <td>9768.0</td>\n",
       "    </tr>\n",
       "    <tr>\n",
       "      <th>United Kingdom</th>\n",
       "      <td>256.0</td>\n",
       "      <td>4260.0</td>\n",
       "      <td>4.318474e-08</td>\n",
       "      <td>50005.0</td>\n",
       "      <td>63896.0</td>\n",
       "    </tr>\n",
       "    <tr>\n",
       "      <th>Germany</th>\n",
       "      <td>193.0</td>\n",
       "      <td>4205.0</td>\n",
       "      <td>3.656030e-02</td>\n",
       "      <td>58746.0</td>\n",
       "      <td>61488.0</td>\n",
       "    </tr>\n",
       "    <tr>\n",
       "      <th>Canada</th>\n",
       "      <td>208.0</td>\n",
       "      <td>2201.0</td>\n",
       "      <td>1.237278e-02</td>\n",
       "      <td>60391.0</td>\n",
       "      <td>64417.0</td>\n",
       "    </tr>\n",
       "  </tbody>\n",
       "</table>\n",
       "</div>"
      ],
      "text/plain": [
       "                Female     Male          pVal  female_median  male_median\n",
       "Country                                                                  \n",
       "United States   1288.0  13914.0  3.865933e-21        85000.0     100000.0\n",
       "India            440.0   6213.0  1.593630e-04         7512.0       9768.0\n",
       "United Kingdom   256.0   4260.0  4.318474e-08        50005.0      63896.0\n",
       "Germany          193.0   4205.0  3.656030e-02        58746.0      61488.0\n",
       "Canada           208.0   2201.0  1.237278e-02        60391.0      64417.0"
      ]
     },
     "execution_count": 13,
     "metadata": {},
     "output_type": "execute_result"
    }
   ],
   "source": [
    "#calculate salary difference for each country\n",
    "genderCountPivot2=genderCountPivot1[(genderCountPivot1.Female >= 10) & (genderCountPivot1.Male >= 10)]\n",
    "nrow = genderCountPivot2.shape[0]\n",
    "\n",
    "pValue1=[]\n",
    "female_median=[]\n",
    "male_median=[]\n",
    "for x in range(0, nrow):\n",
    "    maleSalary = list(df[operator.and_(df['Gender'] == 'Male', df['Country']==genderCountPivot2.index[x])].ConvertedSalary) \n",
    "    femaleSalary = list(df[operator.and_(df['Gender'] == 'Female', df['Country']==genderCountPivot2.index[x])].ConvertedSalary) \n",
    "    u_statistic, pVal = stats.mannwhitneyu(maleSalary, femaleSalary) \n",
    "    pValue1.append(pVal)\n",
    "    female_median.append(stat.median(femaleSalary))\n",
    "    male_median.append(stat.median(maleSalary))\n",
    "    \n",
    "genderCountPivot2['pVal'] = pValue1\n",
    "genderCountPivot2['female_median'] = female_median\n",
    "genderCountPivot2['male_median'] = male_median\n",
    "\n",
    "genderCountPivot2.head()"
   ]
  },
  {
   "cell_type": "code",
   "execution_count": 14,
   "metadata": {},
   "outputs": [
    {
     "data": {
      "text/plain": [
       "22"
      ]
     },
     "execution_count": 14,
     "metadata": {},
     "output_type": "execute_result"
    }
   ],
   "source": [
    "sum(genderCountPivot2['pVal']< 0.05)"
   ]
  },
  {
   "cell_type": "code",
   "execution_count": 15,
   "metadata": {
    "scrolled": true
   },
   "outputs": [],
   "source": [
    "def piePlt(df, country, parameterCol):\n",
    "    if len(country) == 1:\n",
    "        df1 = df[df['Country'] == country]\n",
    "    else:\n",
    "        df1 = df    \n",
    "    classCount = df1.groupby([\"Gender\", parameterCol])[\"Respondent\"].count().to_frame().reset_index()\n",
    "    classCountPivot = classCount.pivot(values='Respondent', index=parameterCol, columns='Gender').reset_index()\n",
    "    classCountPivot = classCountPivot[[parameterCol, \"Female\", \"Male\"]].set_index(parameterCol).fillna(0)\n",
    "\n",
    "    plt.style.use('ggplot')\n",
    "    cs=cm.Set1(np.arange(40)/40.)\n",
    "\n",
    "    def my_autopct(pct):\n",
    "        return ('%.2f' % pct) if pct > 2 else ''\n",
    "\n",
    "    fig, axes = plt.subplots(nrows=1, ncols=2)\n",
    "    for ax, col in zip(axes.flat, classCountPivot.columns):\n",
    "        pie = ax.pie(classCountPivot[col], labels=None, autopct=my_autopct,  pctdistance=1.2, colors=sns.color_palette(\"Paired\"))\n",
    "        ax.set(ylabel='', title=col, aspect='equal')\n",
    "\n",
    "    plt.legend(pie[0],labels=classCountPivot.index, bbox_to_anchor=(1.2,1), loc=\"upper left\")\n",
    "    plt.show()\n",
    "    \n"
   ]
  },
  {
   "cell_type": "code",
   "execution_count": 16,
   "metadata": {},
   "outputs": [
    {
     "name": "stderr",
     "output_type": "stream",
     "text": [
      "C:\\Users\\xiaoling\\Anaconda3\\lib\\site-packages\\matplotlib\\legend.py:1266: UserWarning: You have mixed positional and keyword arguments, some input may be discarded.\n",
      "  warnings.warn(\"You have mixed positional and keyword arguments, some \"\n"
     ]
    },
    {
     "data": {
      "image/png": "[encoded data removed]",
      "text/plain": [
       "<Figure size 432x288 with 2 Axes>"
      ]
     },
     "metadata": {},
     "output_type": "display_data"
    }
   ],
   "source": [
    "df['FormalEducation']=df['FormalEducation'].replace({\"Bachelor’s degree (BA, BS, B.Eng., etc.)\":\"Bachelor\", \n",
    "                                        \"Some college/university study without earning a degree\":\"Some college/University\",\n",
    "                                      \"Secondary school (e.g. American high school, German Realschule or Gymnasium, etc.)\":\"Secondary school\",\n",
    "                                      \"Master’s degree (MA, MS, M.Eng., MBA, etc.)\":\"Master's degree\",\n",
    "                                       \"Professional degree (JD, MD, etc.)\":\"Professional degree\",\n",
    "                                       \"Other doctoral degree (Ph.D, Ed.D., etc.)\":\"Other Dr. degree\",\n",
    "                                       \"I never completed any formal education\":\"not completed\"})\n",
    "piePlt(df, np.unique(df['Country']), 'FormalEducation')#pie plot for education level between female and male"
   ]
  },
  {
   "cell_type": "code",
   "execution_count": 17,
   "metadata": {},
   "outputs": [
    {
     "name": "stderr",
     "output_type": "stream",
     "text": [
      "C:\\Users\\xiaoling\\Anaconda3\\lib\\site-packages\\matplotlib\\legend.py:1266: UserWarning: You have mixed positional and keyword arguments, some input may be discarded.\n",
      "  warnings.warn(\"You have mixed positional and keyword arguments, some \"\n"
     ]
    },
    {
     "data": {
      "image/png": "[encoded data removed]",
      "text/plain": [
       "<Figure size 432x288 with 2 Axes>"
      ]
     },
     "metadata": {},
     "output_type": "display_data"
    }
   ],
   "source": [
    "piePlt(df,'United States', 'FormalEducation') # plot education levels in United States"
   ]
  },
  {
   "cell_type": "code",
   "execution_count": 18,
   "metadata": {},
   "outputs": [
    {
     "name": "stderr",
     "output_type": "stream",
     "text": [
      "C:\\Users\\xiaoling\\Anaconda3\\lib\\site-packages\\matplotlib\\legend.py:1266: UserWarning: You have mixed positional and keyword arguments, some input may be discarded.\n",
      "  warnings.warn(\"You have mixed positional and keyword arguments, some \"\n"
     ]
    },
    {
     "data": {
      "image/png": "[encoded data removed]",
      "text/plain": [
       "<Figure size 432x288 with 2 Axes>"
      ]
     },
     "metadata": {},
     "output_type": "display_data"
    }
   ],
   "source": [
    "#Are there differences of coding experiences between females and males?\n",
    "df['YearsCodingProf']=df['YearsCodingProf'].replace({\"6-8 years\":\"6-14 years\", \n",
    "                                        \"9-11 years\":\"6-14 years\",\n",
    "                                      \"12-14 years\":\"6-14 years\",\n",
    "                                      \"15-17 years\":\">15 years\",\n",
    "                                       \"18-20 years\":\">15 years\",\n",
    "                                       \"21-23 years\":\">15 years\",\n",
    "                                       \"24-26 years\":\">15 years\",\n",
    "                                        \"27-29 years\":\">15 years\"})\n",
    "piePlt(df, np.unique(df['Country']), 'YearsCodingProf') #"
   ]
  },
  {
   "cell_type": "code",
   "execution_count": 19,
   "metadata": {
    "scrolled": true
   },
   "outputs": [
    {
     "name": "stdout",
     "output_type": "stream",
     "text": [
      "median of male salary: 46992.0 \n",
      "median of female salary: 55906.0 \n",
      "p value is 1.716985697716073e-08\n"
     ]
    }
   ],
   "source": [
    "#df_2yCoding = df[(df['YearsCodingProf'] == '3-5 years') & (df['Country'] == 'United States')]\n",
    "df_3yCoding = df[df['YearsCodingProf'] == '3-5 years']\n",
    "pValue(df_3yCoding,'United States') # calculate the salary difference between females and males in United States have 3-5 years of coding experience"
   ]
  }
 ],
 "metadata": {
  "kernelspec": {
   "display_name": "Python [conda env:Anaconda3]",
   "language": "python",
   "name": "conda-env-Anaconda3-py"
  },
  "language_info": {
   "codemirror_mode": {
    "name": "ipython",
    "version": 3
   },
   "file_extension": ".py",
   "mimetype": "text/x-python",
   "name": "python",
   "nbconvert_exporter": "python",
   "pygments_lexer": "ipython3",
   "version": "3.7.0"
  }
 },
 "nbformat": 4,
 "nbformat_minor": 2
}
