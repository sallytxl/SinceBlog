{
 "cells": [
  {
   "cell_type": "code",
   "execution_count": 1,
   "metadata": {
    "scrolled": true
   },
   "outputs": [],
   "source": [
    "import pandas as pd\n",
    "import numpy as np\n",
    "import os\n",
    "import matplotlib as plt\n",
    "import seaborn as sns\n",
    "from scipy.stats import shapiro\n",
    "import scipy.stats as stats\n",
    "import statistics as stat\n",
    "from matplotlib import cm\n",
    "import operator\n",
    "from sklearn.preprocessing import Imputer\n",
    "from sklearn.linear_model import LinearRegression\n",
    "from sklearn import preprocessing"
   ]
  },
  {
   "cell_type": "markdown",
   "metadata": {},
   "source": [
    "## Business understanding\n",
    "The Stack Overflow 2018 Survey gathers data from its registered developers around the world.Here we are focused on the gender gap of developers' salary around the world as it has been noticed in other working places."
   ]
  },
  {
   "cell_type": "code",
   "execution_count": 2,
   "metadata": {},
   "outputs": [
    {
     "name": "stderr",
     "output_type": "stream",
     "text": [
      "C:\\Users\\xiaoling\\Anaconda3\\lib\\site-packages\\IPython\\core\\interactiveshell.py:3018: DtypeWarning: Columns (8,12,13,14,15,16,50,51,52,53,55,56,57,58,59,60,61,62,63,64,65,66,67,68,69,70,71,72,73,74,75,76,77,78,79,80,81,82,83,84,85,93,94,95,96,97,98,99,100,101,102,103,104,105,106,107,108,109,110,111,112,113,114,115,116,117,118,119,120,121,122,123,124,125,126,127,128) have mixed types. Specify dtype option on import or set low_memory=False.\n",
      "  interactivity=interactivity, compiler=compiler, result=result)\n"
     ]
    },
    {
     "data": {
      "text/plain": [
       "(98855, 129)"
      ]
     },
     "execution_count": 2,
     "metadata": {},
     "output_type": "execute_result"
    }
   ],
   "source": [
    "os.chdir(\"C:\\\\Users\\\\xiaoling\\\\Desktop\\\\data_scientist_udacity\\\\term2 project 1\\\\developer_survey_2018\")\n",
    "df = pd.read_csv('survey_results_public.csv')\n",
    "df.shape"
   ]
  },
  {
   "cell_type": "code",
   "execution_count": 3,
   "metadata": {},
   "outputs": [
    {
     "data": {
      "text/html": [
       "<div>\n",
       "<style scoped>\n",
       "    .dataframe tbody tr th:only-of-type {\n",
       "        vertical-align: middle;\n",
       "    }\n",
       "\n",
       "    .dataframe tbody tr th {\n",
       "        vertical-align: top;\n",
       "    }\n",
       "\n",
       "    .dataframe thead th {\n",
       "        text-align: right;\n",
       "    }\n",
       "</style>\n",
       "<table border=\"1\" class=\"dataframe\">\n",
       "  <thead>\n",
       "    <tr style=\"text-align: right;\">\n",
       "      <th></th>\n",
       "      <th>Respondent</th>\n",
       "      <th>Hobby</th>\n",
       "      <th>OpenSource</th>\n",
       "      <th>Country</th>\n",
       "      <th>Student</th>\n",
       "      <th>Employment</th>\n",
       "      <th>FormalEducation</th>\n",
       "      <th>UndergradMajor</th>\n",
       "      <th>CompanySize</th>\n",
       "      <th>DevType</th>\n",
       "      <th>...</th>\n",
       "      <th>Exercise</th>\n",
       "      <th>Gender</th>\n",
       "      <th>SexualOrientation</th>\n",
       "      <th>EducationParents</th>\n",
       "      <th>RaceEthnicity</th>\n",
       "      <th>Age</th>\n",
       "      <th>Dependents</th>\n",
       "      <th>MilitaryUS</th>\n",
       "      <th>SurveyTooLong</th>\n",
       "      <th>SurveyEasy</th>\n",
       "    </tr>\n",
       "  </thead>\n",
       "  <tbody>\n",
       "    <tr>\n",
       "      <th>0</th>\n",
       "      <td>1</td>\n",
       "      <td>Yes</td>\n",
       "      <td>No</td>\n",
       "      <td>Kenya</td>\n",
       "      <td>No</td>\n",
       "      <td>Employed part-time</td>\n",
       "      <td>Bachelor’s degree (BA, BS, B.Eng., etc.)</td>\n",
       "      <td>Mathematics or statistics</td>\n",
       "      <td>20 to 99 employees</td>\n",
       "      <td>Full-stack developer</td>\n",
       "      <td>...</td>\n",
       "      <td>3 - 4 times per week</td>\n",
       "      <td>Male</td>\n",
       "      <td>Straight or heterosexual</td>\n",
       "      <td>Bachelor’s degree (BA, BS, B.Eng., etc.)</td>\n",
       "      <td>Black or of African descent</td>\n",
       "      <td>25 - 34 years old</td>\n",
       "      <td>Yes</td>\n",
       "      <td>NaN</td>\n",
       "      <td>The survey was an appropriate length</td>\n",
       "      <td>Very easy</td>\n",
       "    </tr>\n",
       "    <tr>\n",
       "      <th>1</th>\n",
       "      <td>3</td>\n",
       "      <td>Yes</td>\n",
       "      <td>Yes</td>\n",
       "      <td>United Kingdom</td>\n",
       "      <td>No</td>\n",
       "      <td>Employed full-time</td>\n",
       "      <td>Bachelor’s degree (BA, BS, B.Eng., etc.)</td>\n",
       "      <td>A natural science (ex. biology, chemistry, phy...</td>\n",
       "      <td>10,000 or more employees</td>\n",
       "      <td>Database administrator;DevOps specialist;Full-...</td>\n",
       "      <td>...</td>\n",
       "      <td>Daily or almost every day</td>\n",
       "      <td>Male</td>\n",
       "      <td>Straight or heterosexual</td>\n",
       "      <td>Bachelor’s degree (BA, BS, B.Eng., etc.)</td>\n",
       "      <td>White or of European descent</td>\n",
       "      <td>35 - 44 years old</td>\n",
       "      <td>Yes</td>\n",
       "      <td>NaN</td>\n",
       "      <td>The survey was an appropriate length</td>\n",
       "      <td>Somewhat easy</td>\n",
       "    </tr>\n",
       "    <tr>\n",
       "      <th>2</th>\n",
       "      <td>4</td>\n",
       "      <td>Yes</td>\n",
       "      <td>Yes</td>\n",
       "      <td>United States</td>\n",
       "      <td>No</td>\n",
       "      <td>Employed full-time</td>\n",
       "      <td>Associate degree</td>\n",
       "      <td>Computer science, computer engineering, or sof...</td>\n",
       "      <td>20 to 99 employees</td>\n",
       "      <td>Engineering manager;Full-stack developer</td>\n",
       "      <td>...</td>\n",
       "      <td>NaN</td>\n",
       "      <td>NaN</td>\n",
       "      <td>NaN</td>\n",
       "      <td>NaN</td>\n",
       "      <td>NaN</td>\n",
       "      <td>NaN</td>\n",
       "      <td>NaN</td>\n",
       "      <td>NaN</td>\n",
       "      <td>NaN</td>\n",
       "      <td>NaN</td>\n",
       "    </tr>\n",
       "    <tr>\n",
       "      <th>3</th>\n",
       "      <td>5</td>\n",
       "      <td>No</td>\n",
       "      <td>No</td>\n",
       "      <td>United States</td>\n",
       "      <td>No</td>\n",
       "      <td>Employed full-time</td>\n",
       "      <td>Bachelor’s degree (BA, BS, B.Eng., etc.)</td>\n",
       "      <td>Computer science, computer engineering, or sof...</td>\n",
       "      <td>100 to 499 employees</td>\n",
       "      <td>Full-stack developer</td>\n",
       "      <td>...</td>\n",
       "      <td>I don't typically exercise</td>\n",
       "      <td>Male</td>\n",
       "      <td>Straight or heterosexual</td>\n",
       "      <td>Some college/university study without earning ...</td>\n",
       "      <td>White or of European descent</td>\n",
       "      <td>35 - 44 years old</td>\n",
       "      <td>No</td>\n",
       "      <td>No</td>\n",
       "      <td>The survey was an appropriate length</td>\n",
       "      <td>Somewhat easy</td>\n",
       "    </tr>\n",
       "    <tr>\n",
       "      <th>4</th>\n",
       "      <td>7</td>\n",
       "      <td>Yes</td>\n",
       "      <td>No</td>\n",
       "      <td>South Africa</td>\n",
       "      <td>Yes, part-time</td>\n",
       "      <td>Employed full-time</td>\n",
       "      <td>Some college/university study without earning ...</td>\n",
       "      <td>Computer science, computer engineering, or sof...</td>\n",
       "      <td>10,000 or more employees</td>\n",
       "      <td>Data or business analyst;Desktop or enterprise...</td>\n",
       "      <td>...</td>\n",
       "      <td>3 - 4 times per week</td>\n",
       "      <td>Male</td>\n",
       "      <td>Straight or heterosexual</td>\n",
       "      <td>Some college/university study without earning ...</td>\n",
       "      <td>White or of European descent</td>\n",
       "      <td>18 - 24 years old</td>\n",
       "      <td>Yes</td>\n",
       "      <td>NaN</td>\n",
       "      <td>The survey was an appropriate length</td>\n",
       "      <td>Somewhat easy</td>\n",
       "    </tr>\n",
       "  </tbody>\n",
       "</table>\n",
       "<p>5 rows × 129 columns</p>\n",
       "</div>"
      ],
      "text/plain": [
       "   Respondent Hobby OpenSource         Country         Student  \\\n",
       "0           1   Yes         No           Kenya              No   \n",
       "1           3   Yes        Yes  United Kingdom              No   \n",
       "2           4   Yes        Yes   United States              No   \n",
       "3           5    No         No   United States              No   \n",
       "4           7   Yes         No    South Africa  Yes, part-time   \n",
       "\n",
       "           Employment                                    FormalEducation  \\\n",
       "0  Employed part-time           Bachelor’s degree (BA, BS, B.Eng., etc.)   \n",
       "1  Employed full-time           Bachelor’s degree (BA, BS, B.Eng., etc.)   \n",
       "2  Employed full-time                                   Associate degree   \n",
       "3  Employed full-time           Bachelor’s degree (BA, BS, B.Eng., etc.)   \n",
       "4  Employed full-time  Some college/university study without earning ...   \n",
       "\n",
       "                                      UndergradMajor  \\\n",
       "0                          Mathematics or statistics   \n",
       "1  A natural science (ex. biology, chemistry, phy...   \n",
       "2  Computer science, computer engineering, or sof...   \n",
       "3  Computer science, computer engineering, or sof...   \n",
       "4  Computer science, computer engineering, or sof...   \n",
       "\n",
       "                CompanySize  \\\n",
       "0        20 to 99 employees   \n",
       "1  10,000 or more employees   \n",
       "2        20 to 99 employees   \n",
       "3      100 to 499 employees   \n",
       "4  10,000 or more employees   \n",
       "\n",
       "                                             DevType      ...        \\\n",
       "0                               Full-stack developer      ...         \n",
       "1  Database administrator;DevOps specialist;Full-...      ...         \n",
       "2           Engineering manager;Full-stack developer      ...         \n",
       "3                               Full-stack developer      ...         \n",
       "4  Data or business analyst;Desktop or enterprise...      ...         \n",
       "\n",
       "                     Exercise Gender         SexualOrientation  \\\n",
       "0        3 - 4 times per week   Male  Straight or heterosexual   \n",
       "1   Daily or almost every day   Male  Straight or heterosexual   \n",
       "2                         NaN    NaN                       NaN   \n",
       "3  I don't typically exercise   Male  Straight or heterosexual   \n",
       "4        3 - 4 times per week   Male  Straight or heterosexual   \n",
       "\n",
       "                                    EducationParents  \\\n",
       "0           Bachelor’s degree (BA, BS, B.Eng., etc.)   \n",
       "1           Bachelor’s degree (BA, BS, B.Eng., etc.)   \n",
       "2                                                NaN   \n",
       "3  Some college/university study without earning ...   \n",
       "4  Some college/university study without earning ...   \n",
       "\n",
       "                  RaceEthnicity                Age Dependents  MilitaryUS  \\\n",
       "0   Black or of African descent  25 - 34 years old        Yes         NaN   \n",
       "1  White or of European descent  35 - 44 years old        Yes         NaN   \n",
       "2                           NaN                NaN        NaN         NaN   \n",
       "3  White or of European descent  35 - 44 years old         No          No   \n",
       "4  White or of European descent  18 - 24 years old        Yes         NaN   \n",
       "\n",
       "                          SurveyTooLong     SurveyEasy  \n",
       "0  The survey was an appropriate length      Very easy  \n",
       "1  The survey was an appropriate length  Somewhat easy  \n",
       "2                                   NaN            NaN  \n",
       "3  The survey was an appropriate length  Somewhat easy  \n",
       "4  The survey was an appropriate length  Somewhat easy  \n",
       "\n",
       "[5 rows x 129 columns]"
      ]
     },
     "execution_count": 3,
     "metadata": {},
     "output_type": "execute_result"
    }
   ],
   "source": [
    "df.head()"
   ]
  },
  {
   "cell_type": "code",
   "execution_count": 4,
   "metadata": {},
   "outputs": [
    {
     "data": {
      "text/plain": [
       "184"
      ]
     },
     "execution_count": 4,
     "metadata": {},
     "output_type": "execute_result"
    }
   ],
   "source": [
    "len(df.Country.unique())"
   ]
  },
  {
   "cell_type": "markdown",
   "metadata": {},
   "source": [
    "## Data understanding\n",
    "\n",
    "Nearly 100,000 developers from 184 countries took this survey and it gives a general depiction of developers working status worldwide. Each row of data represents a responder.\n",
    "\n",
    "The dataset includes information of 5 sections as below:\n",
    "1. Basic information\n",
    "2. Work, Education, and Career\n",
    "3. Technology and Tech Culture\n",
    "4. Stack Overflow Usage + Community Questions\n",
    "5. Demographic Information"
   ]
  },
  {
   "cell_type": "markdown",
   "metadata": {},
   "source": [
    "## Data preparation\n",
    "This analysis will focus on the worldwide salary difference between genders in developers, as well as in different countries. We also would like to see whether the difference is because of the educational difference, thus the columns we may used include \"Gender\", \"ConvertedSalary\", \"Country\" and \"FormalEducation\". We will check the missing values in these columns and fix it before beginning analysis.\n"
   ]
  },
  {
   "cell_type": "markdown",
   "metadata": {},
   "source": [
    "## Question I: How many men and women have taken this survey?\n",
    "The number of male and female developers in each country were examed and countries that have no female developers included in this survey were also listed. "
   ]
  },
  {
   "cell_type": "code",
   "execution_count": 5,
   "metadata": {},
   "outputs": [
    {
     "data": {
      "text/plain": [
       "0.34784280006069496"
      ]
     },
     "execution_count": 5,
     "metadata": {},
     "output_type": "execute_result"
    }
   ],
   "source": [
    "df['Gender'].isnull().mean()"
   ]
  },
  {
   "cell_type": "code",
   "execution_count": 6,
   "metadata": {},
   "outputs": [
    {
     "data": {
      "text/plain": [
       "array(['Male', nan, 'Female',\n",
       "       'Female;Male;Transgender;Non-binary, genderqueer, or gender non-conforming',\n",
       "       'Female;Male',\n",
       "       'Male;Non-binary, genderqueer, or gender non-conforming',\n",
       "       'Non-binary, genderqueer, or gender non-conforming', 'Transgender',\n",
       "       'Female;Transgender',\n",
       "       'Transgender;Non-binary, genderqueer, or gender non-conforming',\n",
       "       'Female;Non-binary, genderqueer, or gender non-conforming',\n",
       "       'Female;Transgender;Non-binary, genderqueer, or gender non-conforming',\n",
       "       'Male;Transgender', 'Female;Male;Transgender',\n",
       "       'Female;Male;Non-binary, genderqueer, or gender non-conforming',\n",
       "       'Male;Transgender;Non-binary, genderqueer, or gender non-conforming'],\n",
       "      dtype=object)"
      ]
     },
     "execution_count": 6,
     "metadata": {},
     "output_type": "execute_result"
    }
   ],
   "source": [
    "df['Gender'].unique()"
   ]
  },
  {
   "cell_type": "code",
   "execution_count": 7,
   "metadata": {},
   "outputs": [
    {
     "data": {
      "text/html": [
       "<div>\n",
       "<style scoped>\n",
       "    .dataframe tbody tr th:only-of-type {\n",
       "        vertical-align: middle;\n",
       "    }\n",
       "\n",
       "    .dataframe tbody tr th {\n",
       "        vertical-align: top;\n",
       "    }\n",
       "\n",
       "    .dataframe thead th {\n",
       "        text-align: right;\n",
       "    }\n",
       "</style>\n",
       "<table border=\"1\" class=\"dataframe\">\n",
       "  <thead>\n",
       "    <tr style=\"text-align: right;\">\n",
       "      <th></th>\n",
       "      <th>Female</th>\n",
       "      <th>Male</th>\n",
       "    </tr>\n",
       "    <tr>\n",
       "      <th>Country</th>\n",
       "      <th></th>\n",
       "      <th></th>\n",
       "    </tr>\n",
       "  </thead>\n",
       "  <tbody>\n",
       "    <tr>\n",
       "      <th>Afghanistan</th>\n",
       "      <td>1.0</td>\n",
       "      <td>17.0</td>\n",
       "    </tr>\n",
       "    <tr>\n",
       "      <th>Albania</th>\n",
       "      <td>4.0</td>\n",
       "      <td>45.0</td>\n",
       "    </tr>\n",
       "    <tr>\n",
       "      <th>Algeria</th>\n",
       "      <td>3.0</td>\n",
       "      <td>55.0</td>\n",
       "    </tr>\n",
       "    <tr>\n",
       "      <th>Andorra</th>\n",
       "      <td>1.0</td>\n",
       "      <td>5.0</td>\n",
       "    </tr>\n",
       "    <tr>\n",
       "      <th>Angola</th>\n",
       "      <td>NaN</td>\n",
       "      <td>2.0</td>\n",
       "    </tr>\n",
       "  </tbody>\n",
       "</table>\n",
       "</div>"
      ],
      "text/plain": [
       "             Female  Male\n",
       "Country                  \n",
       "Afghanistan     1.0  17.0\n",
       "Albania         4.0  45.0\n",
       "Algeria         3.0  55.0\n",
       "Andorra         1.0   5.0\n",
       "Angola          NaN   2.0"
      ]
     },
     "execution_count": 7,
     "metadata": {},
     "output_type": "execute_result"
    }
   ],
   "source": [
    "#Count respondent number in each country for male and female\n",
    "genderCount = df.groupby([\"Country\",\"Gender\"])['Respondent'].count().to_frame().reset_index()\n",
    "genderCountPivot = genderCount.pivot(values='Respondent', index='Country', columns='Gender')[[\"Female\", \"Male\"]].rename_axis(None, axis=1)\n",
    "genderCountPivot.head()"
   ]
  },
  {
   "cell_type": "code",
   "execution_count": 8,
   "metadata": {},
   "outputs": [
    {
     "name": "stdout",
     "output_type": "stream",
     "text": [
      "total responders 63483.0\n",
      "% of female 6.340280074980703\n",
      "% of male 93.65971992501929\n"
     ]
    }
   ],
   "source": [
    "#calaculate the proportion of male and female\n",
    "female = genderCountPivot['Female'].sum(axis=0)\n",
    "male = genderCountPivot['Male'].sum(axis=0)\n",
    "\n",
    "print(\"total responders\", female + male)\n",
    "print(\"% of female\", female/(female+male)*100) \n",
    "print(\"% of male\", male/(female+male)*100) "
   ]
  },
  {
   "cell_type": "code",
   "execution_count": 9,
   "metadata": {
    "scrolled": true
   },
   "outputs": [
    {
     "data": {
      "text/plain": [
       "55"
      ]
     },
     "execution_count": 9,
     "metadata": {},
     "output_type": "execute_result"
    }
   ],
   "source": [
    "#find how many countries without female respondent\n",
    "country_noFemale = genderCountPivot[genderCountPivot['Female'].isnull()].sort_values('Male',  ascending=False).reset_index()\n",
    "country_noFemale.Country.count()"
   ]
  },
  {
   "cell_type": "code",
   "execution_count": 10,
   "metadata": {
    "scrolled": true
   },
   "outputs": [
    {
     "data": {
      "text/html": [
       "<div>\n",
       "<style scoped>\n",
       "    .dataframe tbody tr th:only-of-type {\n",
       "        vertical-align: middle;\n",
       "    }\n",
       "\n",
       "    .dataframe tbody tr th {\n",
       "        vertical-align: top;\n",
       "    }\n",
       "\n",
       "    .dataframe thead th {\n",
       "        text-align: right;\n",
       "    }\n",
       "</style>\n",
       "<table border=\"1\" class=\"dataframe\">\n",
       "  <thead>\n",
       "    <tr style=\"text-align: right;\">\n",
       "      <th></th>\n",
       "      <th>Female</th>\n",
       "      <th>Male</th>\n",
       "    </tr>\n",
       "    <tr>\n",
       "      <th>Country</th>\n",
       "      <th></th>\n",
       "      <th></th>\n",
       "    </tr>\n",
       "  </thead>\n",
       "  <tbody>\n",
       "    <tr>\n",
       "      <th>United States</th>\n",
       "      <td>1288.0</td>\n",
       "      <td>13914.0</td>\n",
       "    </tr>\n",
       "    <tr>\n",
       "      <th>India</th>\n",
       "      <td>440.0</td>\n",
       "      <td>6213.0</td>\n",
       "    </tr>\n",
       "    <tr>\n",
       "      <th>United Kingdom</th>\n",
       "      <td>256.0</td>\n",
       "      <td>4260.0</td>\n",
       "    </tr>\n",
       "    <tr>\n",
       "      <th>Germany</th>\n",
       "      <td>193.0</td>\n",
       "      <td>4205.0</td>\n",
       "    </tr>\n",
       "    <tr>\n",
       "      <th>Canada</th>\n",
       "      <td>208.0</td>\n",
       "      <td>2201.0</td>\n",
       "    </tr>\n",
       "    <tr>\n",
       "      <th>Russian Federation</th>\n",
       "      <td>95.0</td>\n",
       "      <td>1632.0</td>\n",
       "    </tr>\n",
       "    <tr>\n",
       "      <th>France</th>\n",
       "      <td>83.0</td>\n",
       "      <td>1629.0</td>\n",
       "    </tr>\n",
       "    <tr>\n",
       "      <th>Brazil</th>\n",
       "      <td>58.0</td>\n",
       "      <td>1513.0</td>\n",
       "    </tr>\n",
       "    <tr>\n",
       "      <th>Australia</th>\n",
       "      <td>85.0</td>\n",
       "      <td>1389.0</td>\n",
       "    </tr>\n",
       "    <tr>\n",
       "      <th>Poland</th>\n",
       "      <td>73.0</td>\n",
       "      <td>1310.0</td>\n",
       "    </tr>\n",
       "  </tbody>\n",
       "</table>\n",
       "</div>"
      ],
      "text/plain": [
       "                    Female     Male\n",
       "Country                            \n",
       "United States       1288.0  13914.0\n",
       "India                440.0   6213.0\n",
       "United Kingdom       256.0   4260.0\n",
       "Germany              193.0   4205.0\n",
       "Canada               208.0   2201.0\n",
       "Russian Federation    95.0   1632.0\n",
       "France                83.0   1629.0\n",
       "Brazil                58.0   1513.0\n",
       "Australia             85.0   1389.0\n",
       "Poland                73.0   1310.0"
      ]
     },
     "execution_count": 10,
     "metadata": {},
     "output_type": "execute_result"
    }
   ],
   "source": [
    "#Generate a table with female and male number listed for each country\n",
    "genderCountPivot = genderCountPivot.dropna(subset=['Female']).sort_values('Male', ascending=False)\n",
    "genderCountPivot.head(10)"
   ]
  },
  {
   "cell_type": "code",
   "execution_count": 11,
   "metadata": {},
   "outputs": [
    {
     "data": {
      "text/plain": [
       "United States     20309\n",
       "India             13721\n",
       "Germany            6459\n",
       "United Kingdom     6221\n",
       "Canada             3393\n",
       "Name: Country, dtype: int64"
      ]
     },
     "execution_count": 11,
     "metadata": {},
     "output_type": "execute_result"
    }
   ],
   "source": [
    "df['Country'].value_counts().head()"
   ]
  },
  {
   "cell_type": "code",
   "execution_count": 12,
   "metadata": {
    "scrolled": false
   },
   "outputs": [
    {
     "data": {
      "text/html": [
       "<div>\n",
       "<style scoped>\n",
       "    .dataframe tbody tr th:only-of-type {\n",
       "        vertical-align: middle;\n",
       "    }\n",
       "\n",
       "    .dataframe tbody tr th {\n",
       "        vertical-align: top;\n",
       "    }\n",
       "\n",
       "    .dataframe thead th {\n",
       "        text-align: right;\n",
       "    }\n",
       "</style>\n",
       "<table border=\"1\" class=\"dataframe\">\n",
       "  <thead>\n",
       "    <tr style=\"text-align: right;\">\n",
       "      <th></th>\n",
       "      <th>Country</th>\n",
       "      <th>Female</th>\n",
       "      <th>Male</th>\n",
       "    </tr>\n",
       "  </thead>\n",
       "  <tbody>\n",
       "    <tr>\n",
       "      <th>0</th>\n",
       "      <td>Dominican Republic</td>\n",
       "      <td>NaN</td>\n",
       "      <td>69.0</td>\n",
       "    </tr>\n",
       "    <tr>\n",
       "      <th>1</th>\n",
       "      <td>Azerbaijan</td>\n",
       "      <td>NaN</td>\n",
       "      <td>44.0</td>\n",
       "    </tr>\n",
       "    <tr>\n",
       "      <th>2</th>\n",
       "      <td>Uganda</td>\n",
       "      <td>NaN</td>\n",
       "      <td>37.0</td>\n",
       "    </tr>\n",
       "    <tr>\n",
       "      <th>3</th>\n",
       "      <td>Uzbekistan</td>\n",
       "      <td>NaN</td>\n",
       "      <td>29.0</td>\n",
       "    </tr>\n",
       "    <tr>\n",
       "      <th>4</th>\n",
       "      <td>United Republic of Tanzania</td>\n",
       "      <td>NaN</td>\n",
       "      <td>26.0</td>\n",
       "    </tr>\n",
       "  </tbody>\n",
       "</table>\n",
       "</div>"
      ],
      "text/plain": [
       "                       Country  Female  Male\n",
       "0           Dominican Republic     NaN  69.0\n",
       "1                   Azerbaijan     NaN  44.0\n",
       "2                       Uganda     NaN  37.0\n",
       "3                   Uzbekistan     NaN  29.0\n",
       "4  United Republic of Tanzania     NaN  26.0"
      ]
     },
     "execution_count": 12,
     "metadata": {},
     "output_type": "execute_result"
    }
   ],
   "source": [
    "country_noFemale.head() # find country without female responders"
   ]
  },
  {
   "cell_type": "markdown",
   "metadata": {},
   "source": [
    "## Question 2: Are females paid less than males?"
   ]
  },
  {
   "cell_type": "markdown",
   "metadata": {},
   "source": [
    "### Data preprocessing\n",
    "Missing values were handled with different methods in numerical and categorical columns.Because here we only use descriptive methods, categorical data were not encoded. "
   ]
  },
  {
   "cell_type": "markdown",
   "metadata": {},
   "source": [
    "### Note: \n",
    "Because the salary level varies among countries, here we selected responders from United States as a representative to do the analysis."
   ]
  },
  {
   "cell_type": "markdown",
   "metadata": {},
   "source": [
    "### Handling missing values:\n",
    "We only select responders that clearly stated as \"Female\" or \"Male\". Rows containing missing values in Gender column will be dropped after this selection;\n",
    "For ConvertedSalary and categorical columns, missing values were filled with the most frequent values."
   ]
  },
  {
   "cell_type": "code",
   "execution_count": 13,
   "metadata": {},
   "outputs": [],
   "source": [
    "def handleMissingValues(df, country):\n",
    "    \"\"\" \n",
    "    Handling missing values\n",
    "    \n",
    "    Keyword arguments:\n",
    "    df -- the dataframe used for analysis\n",
    "    country -- the country chosed for analysis\n",
    "    \"\"\"\n",
    "    df = df[[\"Respondent\",\"ConvertedSalary\", \"Gender\",  \"Country\", \"FormalEducation\", \"Employment\", \"YearsCodingProf\"]]\n",
    "    df = df[(df[\"Gender\"].isin([\"Female\", \"Male\"])) & (df[\"Country\"] == country)] \n",
    "\n",
    "    #Iterating over columns to fill missing values with the most frequent value\n",
    "    columns = list(df)[2:]\n",
    "    for i in columns:\n",
    "        df[i] = df[i].fillna(df[i].value_counts().index[0])\n",
    "        \n",
    "    # Fill missing values in ConvertedSalary column\n",
    "    df['ConvertedSalary'] = df['ConvertedSalary'].fillna(df['ConvertedSalary'].median())\n",
    "    return df"
   ]
  },
  {
   "cell_type": "code",
   "execution_count": 14,
   "metadata": {},
   "outputs": [],
   "source": [
    "df_us = handleMissingValues(df, \"United States\")"
   ]
  },
  {
   "cell_type": "code",
   "execution_count": 15,
   "metadata": {
    "scrolled": false
   },
   "outputs": [
    {
     "data": {
      "image/png": "[encoded data removed]",
      "text/plain": [
       "<Figure size 432x288 with 1 Axes>"
      ]
     },
     "metadata": {
      "needs_background": "light"
     },
     "output_type": "display_data"
    }
   ],
   "source": [
    "#histogram plot to check data distribution, whether normal distribution\n",
    "#plt.hist(df['ConvertedSalary'], bins = 50, alpha = 0.5, label = 'All')\n",
    "plt.hist(df_us[df_us['Gender'] == 'Male'].ConvertedSalary, bins = 50, alpha = 0.5, label = 'Male')\n",
    "plt.hist(df_us[df_us['Gender'] == 'Female'].ConvertedSalary, bins = 50, alpha = 0.5, label = 'Female')\n",
    "plt.legend(loc='upper right')\n",
    "plt.xlabel('Salary(USD)')\n",
    "plt.ylabel('No. of responders')\n",
    "plt.xticks(rotation=30)\n",
    "plt.show() #right skewed distribution"
   ]
  },
  {
   "cell_type": "code",
   "execution_count": 18,
   "metadata": {},
   "outputs": [],
   "source": [
    "#Selecting responders which salary beteween 10,000 and 500,000 as lower and higher salary than this cutoff are more like outliers\n",
    "#Only full time employees were considered into the analysis\n",
    "df_us=df_us[(df_us[\"ConvertedSalary\"] < 500000) & (df_us[\"ConvertedSalary\"] > 10000) &(df_us[\"Employment\"] == \"Employed full-time\")]"
   ]
  },
  {
   "cell_type": "code",
   "execution_count": 17,
   "metadata": {
    "scrolled": true
   },
   "outputs": [
    {
     "name": "stdout",
     "output_type": "stream",
     "text": [
      "median of male salary: 100000.0 \n",
      "median of female salary: 100000.0 \n",
      "p value is 6.2281548155542185e-22\n"
     ]
    }
   ],
   "source": [
    "#mann whiteny test because data are not assuming normal distribution; to see the difference of salary between female and male\n",
    "def calculatePValue(df):\n",
    "    \"\"\"Calculate the p value between male and female salary\n",
    "    \n",
    "    Keyword arguments:\n",
    "    df -- the dataframe used for analysis\n",
    "    \"\"\"\n",
    "\n",
    "    maleSalary = list(df[df['Gender'] == 'Male'].ConvertedSalary)\n",
    "    femaleSalary = list(df[df['Gender'] == 'Female'].ConvertedSalary)\n",
    "    u_statistic, pVal = stats.mannwhitneyu(maleSalary, femaleSalary)\n",
    "    print(\"median of male salary:\",stat.median(maleSalary),\"\\nmedian of female salary:\", stat.median(femaleSalary),  \"\\np value is\" , pVal)\n",
    "\n",
    "calculatePValue(df_us)# In general the salary difference between females and males"
   ]
  },
  {
   "cell_type": "markdown",
   "metadata": {},
   "source": [
    "## Question 3：Is there any difference of education level between female and male?"
   ]
  },
  {
   "cell_type": "code",
   "execution_count": 25,
   "metadata": {},
   "outputs": [],
   "source": [
    "def my_autopct(pct):\n",
    "    \"\"\" change the percentage into a floating point type\n",
    "    \n",
    "    Keyword arguments:\n",
    "    pct -- the percentage \n",
    "    \"\"\"\n",
    "    return ('%.2f' % pct) if pct > 2 else ''"
   ]
  },
  {
   "cell_type": "code",
   "execution_count": 26,
   "metadata": {
    "scrolled": true
   },
   "outputs": [],
   "source": [
    "def piePlt(df,parameterCol):\n",
    "    \"\"\"plot pie chart of male and female by a designated parameter\n",
    "    \n",
    "    Keyword arguments:\n",
    "    df -- the dataframe used for analysis\n",
    "    parameterCol -- The parameter used for classification, for example, male and female salary were classified by their education level   \n",
    "    \"\"\"\n",
    "    classCount = df.groupby([\"Gender\", parameterCol])[\"Respondent\"].count().to_frame().reset_index()\n",
    "    classCountPivot = classCount.pivot(values='Respondent', index=parameterCol, columns='Gender').reset_index()\n",
    "    classCountPivot = classCountPivot[[parameterCol, \"Female\", \"Male\"]].set_index(parameterCol).fillna(0)\n",
    "\n",
    "    plt.style.use('ggplot')\n",
    "    cs=cm.Set1(np.arange(40)/40.)\n",
    "\n",
    "    fig, axes = plt.subplots(nrows=1, ncols=2)\n",
    "    for ax, col in zip(axes.flat, classCountPivot.columns):\n",
    "        pie = ax.pie(classCountPivot[col], labels=None, autopct=my_autopct,  pctdistance=1.2, colors=sns.color_palette(\"Paired\"))\n",
    "        ax.set(ylabel='', title=col, aspect='equal')\n",
    "\n",
    "    plt.legend(pie[0],labels=classCountPivot.index, bbox_to_anchor=(1.2,1), loc=\"upper left\")\n",
    "    plt.show()"
   ]
  },
  {
   "cell_type": "markdown",
   "metadata": {},
   "source": [
    "#### Pie plot 1: The degree levels in female and male"
   ]
  },
  {
   "cell_type": "code",
   "execution_count": 27,
   "metadata": {},
   "outputs": [
    {
     "data": {
      "text/plain": [
       "array(['Bachelor', 'Some college/university', \"Master's degree\",\n",
       "       'Associate degree', 'Professional/Dr. degree',\n",
       "       'High school or lower'], dtype=object)"
      ]
     },
     "execution_count": 27,
     "metadata": {},
     "output_type": "execute_result"
    }
   ],
   "source": [
    "df_us['FormalEducation'].unique()"
   ]
  },
  {
   "cell_type": "code",
   "execution_count": 28,
   "metadata": {
    "scrolled": false
   },
   "outputs": [
    {
     "name": "stderr",
     "output_type": "stream",
     "text": [
      "C:\\Users\\xiaoling\\Anaconda3\\lib\\site-packages\\matplotlib\\legend.py:1266: UserWarning: You have mixed positional and keyword arguments, some input may be discarded.\n",
      "  warnings.warn(\"You have mixed positional and keyword arguments, some \"\n"
     ]
    },
    {
     "data": {
      "image/png": "[encoded data removed]",
      "text/plain": [
       "<Figure size 432x288 with 2 Axes>"
      ]
     },
     "metadata": {},
     "output_type": "display_data"
    }
   ],
   "source": [
    "#Simplify descriptions in FormalEducation for easier pie plot annotation\n",
    "df_us['FormalEducation']=df_us['FormalEducation'].replace({\"Bachelor’s degree (BA, BS, B.Eng., etc.)\":\"Bachelor\", \n",
    "                                        \"Some college/university study without earning a degree\":\"Some college/university\",\n",
    "                                      \"Secondary school (e.g. American high school, German Realschule or Gymnasium, etc.)\":\"High school or lower\",\n",
    "                                      \"Master’s degree (MA, MS, M.Eng., MBA, etc.)\":\"Master's degree\",\n",
    "                                       \"I never completed any formal education\":\"High school or lower\",\n",
    "                                        \"Primary/elementary school\":\"High school or lower\",\n",
    "                                        \"Professional degree (JD, MD, etc.)\":\"Professional/Dr. degree\",\n",
    "                                        \"Other doctoral degree (Ph.D, Ed.D., etc.)\":\"Professional/Dr. degree\"})\n",
    "\n",
    "piePlt(df_us, 'FormalEducation') # plot education levels in United States"
   ]
  },
  {
   "cell_type": "code",
   "execution_count": 30,
   "metadata": {
    "scrolled": false
   },
   "outputs": [
    {
     "data": {
      "text/plain": [
       "[Text(0, 0, 'High school or lower'),\n",
       " Text(0, 0, 'Some college/university'),\n",
       " Text(0, 0, 'Associate degree'),\n",
       " Text(0, 0, 'Bachelor'),\n",
       " Text(0, 0, \"Master's degree\"),\n",
       " Text(0, 0, 'Professional/Dr. degree')]"
      ]
     },
     "execution_count": 30,
     "metadata": {},
     "output_type": "execute_result"
    },
    {
     "data": {
      "image/png": "[encoded data removed]",
      "text/plain": [
       "<Figure size 432x288 with 1 Axes>"
      ]
     },
     "metadata": {},
     "output_type": "display_data"
    }
   ],
   "source": [
    "ax = sns.boxplot(x='FormalEducation', y='ConvertedSalary', data=df_us,order=[\"High school or lower\",\"Some college/university\",\"Associate degree\",\n",
    "                                                                        \"Bachelor\", \"Master's degree\",\"Professional/Dr. degree\"])\n",
    "ax.set_xticklabels(ax.get_xticklabels(),rotation=30)"
   ]
  },
  {
   "cell_type": "code",
   "execution_count": 31,
   "metadata": {
    "scrolled": true
   },
   "outputs": [
    {
     "name": "stdout",
     "output_type": "stream",
     "text": [
      "median of male salary: 100000.0 \n",
      "median of female salary: 92000.0 \n",
      "p value is 1.1167221551625608e-12\n"
     ]
    }
   ],
   "source": [
    "df_us_bachelor = df_us[df_us['FormalEducation'] == 'Bachelor']\n",
    "calculatePValue(df_us_bachelor) # calculate the salary difference between females and males in United States have 3-5 years of coding experience"
   ]
  },
  {
   "cell_type": "markdown",
   "metadata": {},
   "source": [
    "## Question 4：Is there any difference of any difference of coding experiences between female and male?\n",
    "#### Pie plot 2: The coding experiences in female and male"
   ]
  },
  {
   "cell_type": "code",
   "execution_count": 32,
   "metadata": {
    "scrolled": true
   },
   "outputs": [
    {
     "data": {
      "text/plain": [
       "array(['12-14 years', '0-2 years', '21-23 years', '24-26 years',\n",
       "       '3-5 years', '6-8 years', '9-11 years', '18-20 years',\n",
       "       '15-17 years', '30 or more years', '27-29 years'], dtype=object)"
      ]
     },
     "execution_count": 32,
     "metadata": {},
     "output_type": "execute_result"
    }
   ],
   "source": [
    "df_us['YearsCodingProf'].unique()"
   ]
  },
  {
   "cell_type": "code",
   "execution_count": 33,
   "metadata": {
    "scrolled": true
   },
   "outputs": [
    {
     "name": "stderr",
     "output_type": "stream",
     "text": [
      "C:\\Users\\xiaoling\\Anaconda3\\lib\\site-packages\\matplotlib\\legend.py:1266: UserWarning: You have mixed positional and keyword arguments, some input may be discarded.\n",
      "  warnings.warn(\"You have mixed positional and keyword arguments, some \"\n"
     ]
    },
    {
     "data": {
      "image/png": "[encoded data removed]",
      "text/plain": [
       "<Figure size 432x288 with 2 Axes>"
      ]
     },
     "metadata": {},
     "output_type": "display_data"
    }
   ],
   "source": [
    "#Are there differences of coding experiences between females and males?\n",
    "\n",
    "df_us['YearsCodingProf']=df_us['YearsCodingProf'].replace({\"6-8 years\":\"6-14 years\", \n",
    "                                        \"9-11 years\":\"6-14 years\",\n",
    "                                      \"12-14 years\":\"6-14 years\",\n",
    "                                      \"15-17 years\":\"15-20 years\",\n",
    "                                       \"18-20 years\":\"15-20 years\",\n",
    "                                       \"21-23 years\":\">20 years\",\n",
    "                                       \"24-26 years\":\">20 years\",\n",
    "                                        \"27-29 years\":\">20 years\",\n",
    "                                        \"30 or more years\":\">20 years\"})\n",
    "\n",
    "\n",
    "piePlt(df_us,'YearsCodingProf') #"
   ]
  },
  {
   "cell_type": "code",
   "execution_count": 34,
   "metadata": {},
   "outputs": [
    {
     "data": {
      "text/plain": [
       "<matplotlib.axes._subplots.AxesSubplot at 0x562f2b0>"
      ]
     },
     "execution_count": 34,
     "metadata": {},
     "output_type": "execute_result"
    },
    {
     "data": {
      "image/png": "[encoded data removed]",
      "text/plain": [
       "<Figure size 432x288 with 1 Axes>"
      ]
     },
     "metadata": {},
     "output_type": "display_data"
    }
   ],
   "source": [
    "sns.boxplot(x='YearsCodingProf', y='ConvertedSalary', data=df_us,order=[\"0-2 years\",\"3-5 years\", \"6-14 years\", \"15-20 years\", \">20 years\"])"
   ]
  },
  {
   "cell_type": "code",
   "execution_count": 35,
   "metadata": {
    "scrolled": true
   },
   "outputs": [
    {
     "name": "stdout",
     "output_type": "stream",
     "text": [
      "median of male salary: 95000.0 \n",
      "median of female salary: 95000.0 \n",
      "p value is 0.42629972449014397\n"
     ]
    }
   ],
   "source": [
    "df_3yCoding = df_us[df_us['YearsCodingProf'] == '3-5 years']\n",
    "calculatePValue(df_3yCoding) # calculate the salary difference between females and males in United States have 3-5 years of coding experience"
   ]
  },
  {
   "cell_type": "code",
   "execution_count": 36,
   "metadata": {},
   "outputs": [
    {
     "name": "stdout",
     "output_type": "stream",
     "text": [
      "median of male salary: 105000.0 \n",
      "median of female salary: 100000.0 \n",
      "p value is 0.02126488517874695\n"
     ]
    }
   ],
   "source": [
    "df_6yCoding = df_us[df_us['YearsCodingProf'] == '6-14 years']\n",
    "calculatePValue(df_6yCoding)"
   ]
  }
 ],
 "metadata": {
  "kernelspec": {
   "display_name": "Python [conda env:Anaconda3]",
   "language": "python",
   "name": "conda-env-Anaconda3-py"
  },
  "language_info": {
   "codemirror_mode": {
    "name": "ipython",
    "version": 3
   },
   "file_extension": ".py",
   "mimetype": "text/x-python",
   "name": "python",
   "nbconvert_exporter": "python",
   "pygments_lexer": "ipython3",
   "version": "3.7.0"
  }
 },
 "nbformat": 4,
 "nbformat_minor": 2
}
